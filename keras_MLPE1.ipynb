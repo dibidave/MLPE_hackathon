{
 "cells": [
  {
   "cell_type": "code",
   "execution_count": 1,
   "metadata": {},
   "outputs": [],
   "source": [
    "import pandas\n",
    "import numpy as np\n",
    "import pandas as pd\n",
    "import matplotlib.pyplot as plt\n",
    "import sys\n",
    "# !{sys.executable} -m pip install --extra-index-url https://test.pypi.org/project/ protabank --upgrade\n",
    "\n",
    "import protabank as pb"
   ]
  },
  {
   "cell_type": "code",
   "execution_count": 3,
   "metadata": {},
   "outputs": [
    {
     "data": {
      "text/plain": [
       "array([['Brightness', 'SD of brightness'],\n",
       "       ['1.30102987867', 'nan'],\n",
       "       ['3.32511555279', 'nan'],\n",
       "       ...,\n",
       "       ['1.3007288107', 'nan'],\n",
       "       ['3.67811388055', 'nan'],\n",
       "       ['1.50991593608', 'nan']], dtype='<U32')"
      ]
     },
     "execution_count": 3,
     "metadata": {},
     "output_type": "execute_result"
    }
   ],
   "source": [
    "connection = pb.Connection('', '')\n",
    "study = connection.get_study('MPSZ3Nkk3')\n",
    "#study.sequences\n",
    "#study.labels"
   ]
  },
  {
   "cell_type": "code",
   "execution_count": 5,
   "metadata": {},
   "outputs": [
    {
     "data": {
      "text/html": [
       "<div>\n",
       "<style scoped>\n",
       "    .dataframe tbody tr th:only-of-type {\n",
       "        vertical-align: middle;\n",
       "    }\n",
       "\n",
       "    .dataframe tbody tr th {\n",
       "        vertical-align: top;\n",
       "    }\n",
       "\n",
       "    .dataframe thead th {\n",
       "        text-align: right;\n",
       "    }\n",
       "</style>\n",
       "<table border=\"1\" class=\"dataframe\">\n",
       "  <thead>\n",
       "    <tr style=\"text-align: right;\">\n",
       "      <th></th>\n",
       "      <th>Brightness</th>\n",
       "      <th>SD of brightness</th>\n",
       "    </tr>\n",
       "  </thead>\n",
       "  <tbody>\n",
       "    <tr>\n",
       "      <th>1</th>\n",
       "      <td>1.30102987867</td>\n",
       "      <td>nan</td>\n",
       "    </tr>\n",
       "    <tr>\n",
       "      <th>2</th>\n",
       "      <td>3.32511555279</td>\n",
       "      <td>nan</td>\n",
       "    </tr>\n",
       "    <tr>\n",
       "      <th>3</th>\n",
       "      <td>3.17207795627</td>\n",
       "      <td>nan</td>\n",
       "    </tr>\n",
       "    <tr>\n",
       "      <th>4</th>\n",
       "      <td>3.64149927703</td>\n",
       "      <td>0.0884949444496</td>\n",
       "    </tr>\n",
       "    <tr>\n",
       "      <th>5</th>\n",
       "      <td>1.5799740943</td>\n",
       "      <td>nan</td>\n",
       "    </tr>\n",
       "  </tbody>\n",
       "</table>\n",
       "</div>"
      ],
      "text/plain": [
       "0     Brightness SD of brightness\n",
       "1  1.30102987867              nan\n",
       "2  3.32511555279              nan\n",
       "3  3.17207795627              nan\n",
       "4  3.64149927703  0.0884949444496\n",
       "5   1.5799740943              nan"
      ]
     },
     "execution_count": 5,
     "metadata": {},
     "output_type": "execute_result"
    }
   ],
   "source": [
    "labels = pd.DataFrame(study.labels)\n",
    "new_header = labels.iloc[0] #grab the first row for the header\n",
    "labels = labels[1:] #take the data less the header row\n",
    "labels.columns = new_header #set the header row as the df header\n",
    "labels.head()"
   ]
  },
  {
   "cell_type": "code",
   "execution_count": 24,
   "metadata": {},
   "outputs": [],
   "source": [
    "# this converts the brightness into a list of strings\n",
    "brights= np.array(labels['Brightness'])\n",
    "brights = [float(entry) for entry in brights]"
   ]
  },
  {
   "cell_type": "code",
   "execution_count": 27,
   "metadata": {},
   "outputs": [
    {
     "data": {
      "text/html": [
       "<div>\n",
       "<style scoped>\n",
       "    .dataframe tbody tr th:only-of-type {\n",
       "        vertical-align: middle;\n",
       "    }\n",
       "\n",
       "    .dataframe tbody tr th {\n",
       "        vertical-align: top;\n",
       "    }\n",
       "\n",
       "    .dataframe thead th {\n",
       "        text-align: right;\n",
       "    }\n",
       "</style>\n",
       "<table border=\"1\" class=\"dataframe\">\n",
       "  <thead>\n",
       "    <tr style=\"text-align: right;\">\n",
       "      <th></th>\n",
       "      <th>0</th>\n",
       "      <th>1</th>\n",
       "      <th>2</th>\n",
       "      <th>3</th>\n",
       "      <th>4</th>\n",
       "      <th>5</th>\n",
       "      <th>6</th>\n",
       "      <th>7</th>\n",
       "      <th>8</th>\n",
       "      <th>9</th>\n",
       "      <th>...</th>\n",
       "      <th>228</th>\n",
       "      <th>229</th>\n",
       "      <th>230</th>\n",
       "      <th>231</th>\n",
       "      <th>232</th>\n",
       "      <th>233</th>\n",
       "      <th>234</th>\n",
       "      <th>235</th>\n",
       "      <th>236</th>\n",
       "      <th>237</th>\n",
       "    </tr>\n",
       "  </thead>\n",
       "  <tbody>\n",
       "    <tr>\n",
       "      <th>0</th>\n",
       "      <td>11</td>\n",
       "      <td>16</td>\n",
       "      <td>9</td>\n",
       "      <td>6</td>\n",
       "      <td>4</td>\n",
       "      <td>4</td>\n",
       "      <td>10</td>\n",
       "      <td>5</td>\n",
       "      <td>17</td>\n",
       "      <td>6</td>\n",
       "      <td>...</td>\n",
       "      <td>8</td>\n",
       "      <td>17</td>\n",
       "      <td>7</td>\n",
       "      <td>6</td>\n",
       "      <td>11</td>\n",
       "      <td>3</td>\n",
       "      <td>4</td>\n",
       "      <td>10</td>\n",
       "      <td>20</td>\n",
       "      <td>9</td>\n",
       "    </tr>\n",
       "    <tr>\n",
       "      <th>1</th>\n",
       "      <td>11</td>\n",
       "      <td>16</td>\n",
       "      <td>9</td>\n",
       "      <td>6</td>\n",
       "      <td>4</td>\n",
       "      <td>4</td>\n",
       "      <td>10</td>\n",
       "      <td>5</td>\n",
       "      <td>17</td>\n",
       "      <td>6</td>\n",
       "      <td>...</td>\n",
       "      <td>8</td>\n",
       "      <td>17</td>\n",
       "      <td>7</td>\n",
       "      <td>6</td>\n",
       "      <td>11</td>\n",
       "      <td>3</td>\n",
       "      <td>4</td>\n",
       "      <td>10</td>\n",
       "      <td>20</td>\n",
       "      <td>9</td>\n",
       "    </tr>\n",
       "    <tr>\n",
       "      <th>2</th>\n",
       "      <td>11</td>\n",
       "      <td>16</td>\n",
       "      <td>9</td>\n",
       "      <td>6</td>\n",
       "      <td>4</td>\n",
       "      <td>4</td>\n",
       "      <td>10</td>\n",
       "      <td>5</td>\n",
       "      <td>17</td>\n",
       "      <td>6</td>\n",
       "      <td>...</td>\n",
       "      <td>8</td>\n",
       "      <td>17</td>\n",
       "      <td>7</td>\n",
       "      <td>6</td>\n",
       "      <td>11</td>\n",
       "      <td>3</td>\n",
       "      <td>4</td>\n",
       "      <td>10</td>\n",
       "      <td>20</td>\n",
       "      <td>9</td>\n",
       "    </tr>\n",
       "    <tr>\n",
       "      <th>3</th>\n",
       "      <td>11</td>\n",
       "      <td>16</td>\n",
       "      <td>9</td>\n",
       "      <td>6</td>\n",
       "      <td>4</td>\n",
       "      <td>4</td>\n",
       "      <td>10</td>\n",
       "      <td>5</td>\n",
       "      <td>17</td>\n",
       "      <td>6</td>\n",
       "      <td>...</td>\n",
       "      <td>8</td>\n",
       "      <td>17</td>\n",
       "      <td>7</td>\n",
       "      <td>6</td>\n",
       "      <td>11</td>\n",
       "      <td>3</td>\n",
       "      <td>4</td>\n",
       "      <td>10</td>\n",
       "      <td>20</td>\n",
       "      <td>9</td>\n",
       "    </tr>\n",
       "    <tr>\n",
       "      <th>4</th>\n",
       "      <td>11</td>\n",
       "      <td>16</td>\n",
       "      <td>9</td>\n",
       "      <td>6</td>\n",
       "      <td>4</td>\n",
       "      <td>4</td>\n",
       "      <td>10</td>\n",
       "      <td>5</td>\n",
       "      <td>17</td>\n",
       "      <td>6</td>\n",
       "      <td>...</td>\n",
       "      <td>8</td>\n",
       "      <td>17</td>\n",
       "      <td>7</td>\n",
       "      <td>6</td>\n",
       "      <td>11</td>\n",
       "      <td>3</td>\n",
       "      <td>4</td>\n",
       "      <td>10</td>\n",
       "      <td>20</td>\n",
       "      <td>9</td>\n",
       "    </tr>\n",
       "  </tbody>\n",
       "</table>\n",
       "<p>5 rows × 238 columns</p>\n",
       "</div>"
      ],
      "text/plain": [
       "   0    1    2    3    4    5    6    7    8    9   ...   228  229  230  231  \\\n",
       "0   11   16    9    6    4    4   10    5   17    6 ...     8   17    7    6   \n",
       "1   11   16    9    6    4    4   10    5   17    6 ...     8   17    7    6   \n",
       "2   11   16    9    6    4    4   10    5   17    6 ...     8   17    7    6   \n",
       "3   11   16    9    6    4    4   10    5   17    6 ...     8   17    7    6   \n",
       "4   11   16    9    6    4    4   10    5   17    6 ...     8   17    7    6   \n",
       "\n",
       "   232  233  234  235  236  237  \n",
       "0   11    3    4   10   20    9  \n",
       "1   11    3    4   10   20    9  \n",
       "2   11    3    4   10   20    9  \n",
       "3   11    3    4   10   20    9  \n",
       "4   11    3    4   10   20    9  \n",
       "\n",
       "[5 rows x 238 columns]"
      ]
     },
     "execution_count": 27,
     "metadata": {},
     "output_type": "execute_result"
    }
   ],
   "source": [
    "seqs = pd.DataFrame(study.sequences)\n",
    "seqs.head()"
   ]
  },
  {
   "cell_type": "code",
   "execution_count": 81,
   "metadata": {},
   "outputs": [],
   "source": [
    "# this converts our categorial sequences into a list of one hot lists\n",
    "gfp_len = 238\n",
    "onehotseqs = []\n",
    "for seq in study.sequences:\n",
    "    seq = np.array(seq-1)\n",
    "    onehotseq = np.zeros((gfp_len,20))\n",
    "    onehotseq[np.arange(gfp_len),seq]=1\n",
    "    onehotseqs.append(onehotseq)"
   ]
  },
  {
   "cell_type": "code",
   "execution_count": 167,
   "metadata": {},
   "outputs": [
    {
     "data": {
      "text/plain": [
       "(51714, 4760)"
      ]
     },
     "execution_count": 167,
     "metadata": {},
     "output_type": "execute_result"
    }
   ],
   "source": [
    "# this gets the one hot enconded sequences and for each sequence concatenas teh amino acids (since each aa is a onehot list of len 20)\n",
    "# the final product has dimensions of 51714 proteins by 238aa*20types =  (51714, 4760)\n",
    "\n",
    "X = []\n",
    "for ohseq in onehotseqs:\n",
    "    concat = []\n",
    "    for aa in ohseq:\n",
    "        concat.extend(aa)\n",
    "    X.append(concat)\n",
    "    #print(concat)\n",
    "    #break\n",
    "X = np.array(X)\n",
    "np.shape(X)"
   ]
  },
  {
   "cell_type": "code",
   "execution_count": 168,
   "metadata": {},
   "outputs": [
    {
     "data": {
      "text/plain": [
       "51714"
      ]
     },
     "execution_count": 168,
     "metadata": {},
     "output_type": "execute_result"
    }
   ],
   "source": [
    "Y = np.array(list(brights))\n",
    "len(Y)"
   ]
  },
  {
   "cell_type": "code",
   "execution_count": 108,
   "metadata": {},
   "outputs": [
    {
     "name": "stdout",
     "output_type": "stream",
     "text": [
      "TRAIN INDEX: [    1     3     5 ... 51709 51711 51713] \n",
      " TEST INDEX: [    0     2     4 ... 51708 51710 51712]\n"
     ]
    }
   ],
   "source": [
    "# but for now let's use odd indexes for training and even for testing:\n",
    "train_indices = np.array(range(1,nproteins,2)) \n",
    "test_indices = np.array(range(0,nproteins,2))\n",
    "print(\"TRAIN INDEX:\", train_indices,'\\n', \"TEST INDEX:\", test_indices)"
   ]
  },
  {
   "cell_type": "markdown",
   "metadata": {},
   "source": [
    "## Define the models\n",
    "Here we're trying a simple logistic regression with mean squared error for the loss"
   ]
  },
  {
   "cell_type": "code",
   "execution_count": 165,
   "metadata": {},
   "outputs": [],
   "source": [
    "# Build the models for each taxonomy rank level\n",
    "BATCH_SIZE = 20000 # batchsize = half of the data\n",
    "EPOCHS = 4\n",
    "STEPS_PER_EPOCH = 5 # len(train_indices) // BATCH_SIZE\n",
    "\n",
    "# number of cell types (labels) in taxonomy rank\n",
    "output_dim = 1\n",
    "#number of genes\n",
    "input_dim = np.shape(X)[1]\n",
    "model = Sequential() \n",
    "model.add(Dense(output_dim, input_dim=input_dim, activation='softmax')) \n",
    "\n",
    "#Compile the model\n",
    "model.compile(optimizer='adam', \n",
    "              loss='mean_squared_error',\n",
    "              metrics=['accuracy']) "
   ]
  },
  {
   "cell_type": "markdown",
   "metadata": {},
   "source": [
    "## Train the model\n",
    "We just train for a few epochs to see if the code runs"
   ]
  },
  {
   "cell_type": "code",
   "execution_count": 174,
   "metadata": {},
   "outputs": [
    {
     "name": "stdout",
     "output_type": "stream",
     "text": [
      "HALF-HALF DATA SPLIT FOR TRAINING AND VALIDATION OF LOGREG CLASSIFIER\n",
      "Train on 25857 samples, validate on 25857 samples\n",
      "Epoch 1/5\n",
      "2/2 [==============================] - 1s 413ms/step - loss: 3.8491 - acc: 0.0000e+00 - val_loss: 3.8896 - val_acc: 0.0000e+00\n",
      "Epoch 2/5\n",
      "2/2 [==============================] - 1s 429ms/step - loss: 3.8491 - acc: 0.0000e+00 - val_loss: 3.8896 - val_acc: 0.0000e+00\n",
      "Epoch 3/5\n",
      "2/2 [==============================] - 1s 388ms/step - loss: 3.8491 - acc: 0.0000e+00 - val_loss: 3.8896 - val_acc: 0.0000e+00\n",
      "Epoch 4/5\n",
      "2/2 [==============================] - 1s 456ms/step - loss: 3.8491 - acc: 0.0000e+00 - val_loss: 3.8896 - val_acc: 0.0000e+00\n",
      "Epoch 5/5\n",
      "2/2 [==============================] - 1s 433ms/step - loss: 3.8491 - acc: 0.0000e+00 - val_loss: 3.8896 - val_acc: 0.0000e+00\n"
     ]
    }
   ],
   "source": [
    "print ('HALF-HALF DATA SPLIT FOR TRAINING AND VALIDATION OF LOGREG CLASSIFIER')\n",
    "history = model.fit(\n",
    "        x = np.array(X)[train_indices],\n",
    "        y = np.array(Y)[train_indices],\n",
    "        validation_data=(X[test_indices], Y[test_indices]),\n",
    "        validation_steps=len(test_indices) // BATCH_SIZE,\n",
    "        epochs=5,\n",
    "        steps_per_epoch= len(train_indices) // BATCH_SIZE)\n",
    "\n"
   ]
  },
  {
   "cell_type": "code",
   "execution_count": null,
   "metadata": {},
   "outputs": [],
   "source": []
  },
  {
   "cell_type": "code",
   "execution_count": null,
   "metadata": {},
   "outputs": [],
   "source": [
    "\n"
   ]
  }
 ],
 "metadata": {
  "kernelspec": {
   "display_name": "Python 3",
   "language": "python",
   "name": "python3"
  },
  "language_info": {
   "codemirror_mode": {
    "name": "ipython",
    "version": 3
   },
   "file_extension": ".py",
   "mimetype": "text/x-python",
   "name": "python",
   "nbconvert_exporter": "python",
   "pygments_lexer": "ipython3",
   "version": "3.6.5"
  }
 },
 "nbformat": 4,
 "nbformat_minor": 2
}
